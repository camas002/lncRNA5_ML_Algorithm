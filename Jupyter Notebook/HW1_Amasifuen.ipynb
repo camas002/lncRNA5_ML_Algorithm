{
 "cells": [
  {
   "cell_type": "markdown",
   "id": "5de143a4-2b8b-46a2-af3a-95290ddd9403",
   "metadata": {},
   "source": [
    "First import the dataset"
   ]
  },
  {
   "cell_type": "code",
   "execution_count": 1,
   "id": "94deb632-23c8-4571-8025-fd2dac9b0e49",
   "metadata": {},
   "outputs": [],
   "source": [
    "#Import data handling\n",
    "import pandas as pd\n",
    "\n",
    "cancerData = pd.read_csv(\"../Dataset/lncRNA_5_Cancers.csv\")"
   ]
  },
  {
   "cell_type": "code",
   "execution_count": 4,
   "id": "4ce252c9-ef97-44c9-bd93-24b550064d3d",
   "metadata": {},
   "outputs": [
    {
     "name": "stdout",
     "output_type": "stream",
     "text": [
      "(2529, 12311)\n"
     ]
    }
   ],
   "source": [
    "print(cancerData.shape)"
   ]
  },
  {
   "cell_type": "markdown",
   "id": "34d8488a-9ad8-4167-93e1-1e27d1d5ea3e",
   "metadata": {},
   "source": [
    "Our dataset consists of 2529 samples (rows) and 12311 features (columns).\n",
    "\n",
    "The first row is for column label, and two of the columns are Ensembl_ID (first col) and Class (last col)."
   ]
  },
  {
   "cell_type": "code",
   "execution_count": 6,
   "id": "e5d4a6a5-b5de-4926-8828-7a4d6f4f10c7",
   "metadata": {},
   "outputs": [
    {
     "data": {
      "text/plain": [
       "array(['KIRC', 'LUAD', 'LUSC', 'PRAD', 'THCA'], dtype=object)"
      ]
     },
     "execution_count": 6,
     "metadata": {},
     "output_type": "execute_result"
    }
   ],
   "source": [
    "cancerData['Class'].unique()"
   ]
  },
  {
   "cell_type": "markdown",
   "id": "c9001076-f34e-404d-a80f-287752cb30b3",
   "metadata": {},
   "source": [
    "We check to see how many unique cancer types there are:\n",
    "- KIRC\n",
    "- LUAD\n",
    "- LUSC\n",
    "- PRAD\n",
    "- THCA\n",
    "\n",
    "Now we will look at how many samples are from each class."
   ]
  },
  {
   "cell_type": "code",
   "execution_count": 8,
   "id": "62b123fb-19a5-43de-807c-4c08cc84debc",
   "metadata": {},
   "outputs": [
    {
     "name": "stdout",
     "output_type": "stream",
     "text": [
      "Class\n",
      "KIRC    527\n",
      "LUAD    510\n",
      "THCA    501\n",
      "LUSC    498\n",
      "PRAD    493\n",
      "Name: count, dtype: int64\n"
     ]
    }
   ],
   "source": [
    "classCount = cancerData['Class'].value_counts()\n",
    "print(classCount)"
   ]
  },
  {
   "cell_type": "code",
   "execution_count": null,
   "id": "3959f891-a354-414a-9ce7-818f6fb6ccf8",
   "metadata": {},
   "outputs": [],
   "source": []
  }
 ],
 "metadata": {
  "kernelspec": {
   "display_name": "Python 3 (ipykernel)",
   "language": "python",
   "name": "python3"
  },
  "language_info": {
   "codemirror_mode": {
    "name": "ipython",
    "version": 3
   },
   "file_extension": ".py",
   "mimetype": "text/x-python",
   "name": "python",
   "nbconvert_exporter": "python",
   "pygments_lexer": "ipython3",
   "version": "3.11.9"
  }
 },
 "nbformat": 4,
 "nbformat_minor": 5
}
